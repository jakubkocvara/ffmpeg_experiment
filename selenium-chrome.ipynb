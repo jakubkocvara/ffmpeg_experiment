{
 "cells": [
  {
   "cell_type": "code",
   "execution_count": 1,
   "id": "986d1f77-c458-4eba-8565-fe9a0ada84da",
   "metadata": {},
   "outputs": [
    {
     "name": "stdout",
     "output_type": "stream",
     "text": [
      "Google Chrome 121.0.6167.139 \n"
     ]
    }
   ],
   "source": [
    "!google-chrome --version "
   ]
  },
  {
   "cell_type": "code",
   "execution_count": 2,
   "id": "ffff699f-1ed6-422d-9963-4b1409134330",
   "metadata": {},
   "outputs": [],
   "source": [
    "from selenium import webdriver\n",
    "from selenium.webdriver.common.by import By\n",
    "import time\n",
    "from fake_useragent import UserAgent"
   ]
  },
  {
   "cell_type": "code",
   "execution_count": 3,
   "id": "5d1004fe-44b4-4280-a33e-38499672a34c",
   "metadata": {},
   "outputs": [],
   "source": [
    "import urllib.request\n",
    "import os\n",
    "import shutil\n",
    "import datetime\n",
    "import re"
   ]
  },
  {
   "cell_type": "code",
   "execution_count": 4,
   "id": "d842e4fa-a3f6-4c93-8606-403be8eab39e",
   "metadata": {},
   "outputs": [],
   "source": [
    "from requests import get  # to make GET request\n",
    "\n",
    "def download(url, file_name):\n",
    "    # open in binary mode\n",
    "    with open(file_name, \"wb\") as file:\n",
    "        # get request\n",
    "        response = get(url)\n",
    "        # write to file\n",
    "        file.write(response.content)"
   ]
  },
  {
   "cell_type": "code",
   "execution_count": 5,
   "id": "1582866c-3ae6-4a5f-804f-dc6c9292df78",
   "metadata": {},
   "outputs": [
    {
     "data": {
      "text/plain": [
       "{}"
      ]
     },
     "execution_count": 5,
     "metadata": {},
     "output_type": "execute_result"
    }
   ],
   "source": [
    "options = webdriver.ChromeOptions()\n",
    "options.add_argument('--headless=new')\n",
    "options.add_argument('--disable-dev-shm-usage')  \n",
    "# options.add_argument(\"--incognito\")\n",
    "# options.add_argument(\"--nogpu\")\n",
    "# options.add_argument(\"--disable-gpu\")\n",
    "options.add_argument(\"--window-size=2000,4000\")\n",
    "options.add_argument(\"--no-sandbox\")\n",
    "options.add_argument(\"--enable-javascript\")\n",
    "options.add_experimental_option(\"excludeSwitches\", [\"enable-automation\"])\n",
    "options.add_experimental_option('useAutomationExtension', False)\n",
    "options.add_argument('--disable-blink-features=AutomationControlled')\n",
    "\n",
    "ua = UserAgent()\n",
    "userAgent = ua.random\n",
    "\n",
    "driver = webdriver.Chrome(options=options)\n",
    "driver.execute_script(\"Object.defineProperty(navigator, 'webdriver', {get: () => undefined})\")\n",
    "driver.execute_cdp_cmd('Network.setUserAgentOverride', {\"userAgent\": userAgent})"
   ]
  },
  {
   "cell_type": "code",
   "execution_count": 6,
   "id": "a22c6c07-4385-4d73-85b3-65129860fd6e",
   "metadata": {},
   "outputs": [],
   "source": [
    "driver.get(\"https://www.nba.com/stats/events?CFID=&CFPARAMS=&ContextMeasure=FGM&EndPeriod=0&EndRange=28800&GameID=0022300652&PlayerID=1631097&RangeType=0&Season=2023-24&SeasonType=Regular%20Season&StartPeriod=0&StartRange=0&TeamID=1610612754&flag=3&sct=plot&section=game\")"
   ]
  },
  {
   "cell_type": "code",
   "execution_count": 7,
   "id": "6e97285d-acae-45ce-93c9-c76f545e3cc3",
   "metadata": {},
   "outputs": [],
   "source": [
    "time.sleep(5)"
   ]
  },
  {
   "cell_type": "code",
   "execution_count": 8,
   "id": "0b95e286-11bf-4c82-8966-b7662b64d2fa",
   "metadata": {},
   "outputs": [
    {
     "data": {
      "text/plain": [
       "True"
      ]
     },
     "execution_count": 8,
     "metadata": {},
     "output_type": "execute_result"
    }
   ],
   "source": [
    "driver.get_screenshot_as_file('foo.png')"
   ]
  },
  {
   "cell_type": "code",
   "execution_count": 9,
   "id": "928a3aa6-08da-4571-9206-da16739c63ab",
   "metadata": {},
   "outputs": [
    {
     "data": {
      "text/html": [
       "<img src=\"foo.png\"/>"
      ],
      "text/plain": [
       "<IPython.core.display.Image object>"
      ]
     },
     "execution_count": 9,
     "metadata": {},
     "output_type": "execute_result"
    }
   ],
   "source": [
    "from IPython.display import Image\n",
    "from IPython.core.display import HTML \n",
    "Image(url= \"foo.png\")"
   ]
  },
  {
   "cell_type": "code",
   "execution_count": 10,
   "id": "60417e20-63d4-45f6-8546-ee192b9bf12d",
   "metadata": {},
   "outputs": [],
   "source": [
    "dir = 'videos'\n",
    "if os.path.exists(dir):\n",
    "    shutil.rmtree(dir)\n",
    "os.makedirs(dir)"
   ]
  },
  {
   "cell_type": "code",
   "execution_count": 11,
   "id": "e78849a6-79df-44b6-ae17-4f22ba5bd684",
   "metadata": {},
   "outputs": [
    {
     "data": {
      "text/plain": [
       "'2024_01_31_19_40_56_398151'"
      ]
     },
     "execution_count": 11,
     "metadata": {},
     "output_type": "execute_result"
    }
   ],
   "source": [
    "re.sub(r\"[. :-]\", \"_\", str(datetime.datetime.now()))"
   ]
  },
  {
   "cell_type": "code",
   "execution_count": 12,
   "id": "c0b60602-127e-47a7-b4af-f285aff04806",
   "metadata": {},
   "outputs": [
    {
     "name": "stdout",
     "output_type": "stream",
     "text": [
      "https://videos.nba.com/nba/pbp/media/2024/01/28/0022300652/63/1d40e8bf-5039-83fd-84a0-aa7b19af3ade_1280x720.mp4\n",
      "https://videos.nba.com/nba/pbp/media/2024/01/28/0022300652/105/4bdc6417-3c09-d130-cee6-e9333d048a24_1280x720.mp4\n",
      "https://videos.nba.com/nba/pbp/media/2024/01/28/0022300652/124/27947b30-9c7b-5e13-c604-0a50cfada3b0_1280x720.mp4\n",
      "https://videos.nba.com/nba/pbp/media/2024/01/28/0022300652/133/7779fb42-6e5d-d25b-52a2-4eb686880b0d_1280x720.mp4\n",
      "https://videos.nba.com/nba/pbp/media/2024/01/28/0022300652/137/c9c4f404-0f10-1b22-3ddb-b590d8dcad38_1280x720.mp4\n",
      "https://videos.nba.com/nba/pbp/media/2024/01/28/0022300652/185/208788e6-f673-b4db-23ec-987f6fedcff9_1280x720.mp4\n",
      "https://videos.nba.com/nba/pbp/media/2024/01/28/0022300652/197/96484d64-05b4-2053-4a95-173d96896ad4_1280x720.mp4\n",
      "https://videos.nba.com/nba/pbp/media/2024/01/28/0022300652/399/e950f3ab-4576-1503-b8c8-616350d72dd5_1280x720.mp4\n",
      "https://videos.nba.com/nba/pbp/media/2024/01/28/0022300652/471/5eb46015-69c7-e1b2-49c6-4b6d6c549f5b_1280x720.mp4\n"
     ]
    }
   ],
   "source": [
    "for i, el in enumerate(driver.find_elements(By.TAG_NAME, 'tr')):\n",
    "    if ('row' in el.get_attribute('class')):\n",
    "        el.find_element(By.TAG_NAME, 'td').click();\n",
    "        time.sleep(1);\n",
    "        url = driver.find_element(By.TAG_NAME, 'video').get_attribute('src')\n",
    "        if ('.mp4' in url):            \n",
    "            print(url)\n",
    "            download(url, \"videos/\" + re.sub(r\"[. :-]\", \"_\", str(datetime.datetime.now())) + \".mp4\")"
   ]
  },
  {
   "cell_type": "code",
   "execution_count": 13,
   "id": "755bd3f2-c148-4f95-ab74-d2df5c4eb6b3",
   "metadata": {},
   "outputs": [],
   "source": [
    "from pathlib import Path\n",
    "import subprocess\n",
    "\n",
    "paths = sorted(Path('videos').iterdir(), key=os.path.getmtime)"
   ]
  },
  {
   "cell_type": "code",
   "execution_count": 14,
   "id": "68368772-d87a-4445-9740-d94e70217cd2",
   "metadata": {},
   "outputs": [
    {
     "name": "stderr",
     "output_type": "stream",
     "text": [
      "ffmpeg version 4.4.2-0ubuntu0.22.04.1 Copyright (c) 2000-2021 the FFmpeg developers\n",
      "  built with gcc 11 (Ubuntu 11.2.0-19ubuntu1)\n",
      "  configuration: --prefix=/usr --extra-version=0ubuntu0.22.04.1 --toolchain=hardened --libdir=/usr/lib/x86_64-linux-gnu --incdir=/usr/include/x86_64-linux-gnu --arch=amd64 --enable-gpl --disable-stripping --enable-gnutls --enable-ladspa --enable-libaom --enable-libass --enable-libbluray --enable-libbs2b --enable-libcaca --enable-libcdio --enable-libcodec2 --enable-libdav1d --enable-libflite --enable-libfontconfig --enable-libfreetype --enable-libfribidi --enable-libgme --enable-libgsm --enable-libjack --enable-libmp3lame --enable-libmysofa --enable-libopenjpeg --enable-libopenmpt --enable-libopus --enable-libpulse --enable-librabbitmq --enable-librubberband --enable-libshine --enable-libsnappy --enable-libsoxr --enable-libspeex --enable-libsrt --enable-libssh --enable-libtheora --enable-libtwolame --enable-libvidstab --enable-libvorbis --enable-libvpx --enable-libwebp --enable-libx265 --enable-libxml2 --enable-libxvid --enable-libzimg --enable-libzmq --enable-libzvbi --enable-lv2 --enable-omx --enable-openal --enable-opencl --enable-opengl --enable-sdl2 --enable-pocketsphinx --enable-librsvg --enable-libmfx --enable-libdc1394 --enable-libdrm --enable-libiec61883 --enable-chromaprint --enable-frei0r --enable-libx264 --enable-shared\n",
      "  libavutil      56. 70.100 / 56. 70.100\n",
      "  libavcodec     58.134.100 / 58.134.100\n",
      "  libavformat    58. 76.100 / 58. 76.100\n",
      "  libavdevice    58. 13.100 / 58. 13.100\n",
      "  libavfilter     7.110.100 /  7.110.100\n",
      "  libswscale      5.  9.100 /  5.  9.100\n",
      "  libswresample   3.  9.100 /  3.  9.100\n",
      "  libpostproc    55.  9.100 / 55.  9.100\n",
      "[mov,mp4,m4a,3gp,3g2,mj2 @ 0x55ccb29a33c0] Auto-inserting h264_mp4toannexb bitstream filter\n",
      "Input #0, concat, from 'fl.txt':\n",
      "  Duration: N/A, start: -0.033333, bitrate: 6516 kb/s\n",
      "  Stream #0:0(und): Video: h264 (Main) (avc1 / 0x31637661), yuv420p(tv, bt709), 1280x720 [SAR 1:1 DAR 16:9], 6420 kb/s, 60 fps, 60 tbr, 60k tbn, 120 tbc\n",
      "    Metadata:\n",
      "      creation_time   : 2024-01-28T20:56:35.000000Z\n",
      "      handler_name    : ETI ISO Video Media Handler\n",
      "      vendor_id       : [0][0][0][0]\n",
      "      encoder         : Elemental H.264\n",
      "  Stream #0:1(und): Audio: aac (LC) (mp4a / 0x6134706D), 48000 Hz, stereo, fltp, 96 kb/s\n",
      "    Metadata:\n",
      "      creation_time   : 2024-01-28T20:56:35.000000Z\n",
      "      handler_name    : ETI ISO Audio Media Handler\n",
      "      vendor_id       : [0][0][0][0]\n",
      "Output #0, mp4, to 'output.mp4':\n",
      "  Metadata:\n",
      "    encoder         : Lavf58.76.100\n",
      "  Stream #0:0(und): Video: h264 (Main) (avc1 / 0x31637661), yuv420p(tv, bt709), 1280x720 [SAR 1:1 DAR 16:9], q=2-31, 6420 kb/s, 60 fps, 60 tbr, 60k tbn, 60k tbc\n",
      "    Metadata:\n",
      "      creation_time   : 2024-01-28T20:56:35.000000Z\n",
      "      handler_name    : ETI ISO Video Media Handler\n",
      "      vendor_id       : [0][0][0][0]\n",
      "      encoder         : Elemental H.264\n",
      "  Stream #0:1(und): Audio: aac (LC) (mp4a / 0x6134706D), 48000 Hz, stereo, fltp, 96 kb/s\n",
      "    Metadata:\n",
      "      creation_time   : 2024-01-28T20:56:35.000000Z\n",
      "      handler_name    : ETI ISO Audio Media Handler\n",
      "      vendor_id       : [0][0][0][0]\n",
      "Stream mapping:\n",
      "  Stream #0:0 -> #0:0 (copy)\n",
      "  Stream #0:1 -> #0:1 (copy)\n",
      "Press [q] to stop, [?] for help\n",
      "[mov,mp4,m4a,3gp,3g2,mj2 @ 0x55ccb29a33c0] Auto-inserting h264_mp4toannexb bitstream filter\n",
      "    Last message repeated 3 times\n",
      "[mov,mp4,m4a,3gp,3g2,mj2 @ 0x55ccb29d25c0] Auto-inserting h264_mp4toannexb bitstream filter\n",
      "[mov,mp4,m4a,3gp,3g2,mj2 @ 0x55ccb29e9340] Auto-inserting h264_mp4toannexb bitstream filter\n",
      "[mov,mp4,m4a,3gp,3g2,mj2 @ 0x55ccb29c0580] Auto-inserting h264_mp4toannexb bitstream filter\n",
      "    Last message repeated 1 times\n",
      "frame= 5821 fps=0.0 q=-1.0 Lsize=   78095kB time=00:01:37.03 bitrate=6592.7kbits/s speed= 210x    \n",
      "video:76805kB audio:1140kB subtitle:0kB other streams:0kB global headers:0kB muxing overhead: 0.192492%\n"
     ]
    }
   ],
   "source": [
    "bashCommand = \"cd videos && find *.mp4 | sed 's:\\ :\\\\\\ :g'| sed 's/^/file /' > fl.txt; ffmpeg -f concat -i fl.txt -c copy output.mp4; rm fl.txt\"\n",
    "output = subprocess.check_output(['bash','-c', bashCommand])"
   ]
  },
  {
   "cell_type": "code",
   "execution_count": 15,
   "id": "9eb45cc6-e91a-44eb-9bb1-2ee73d4ab981",
   "metadata": {},
   "outputs": [],
   "source": [
    "for path in paths:\n",
    "    path.unlink()"
   ]
  },
  {
   "cell_type": "code",
   "execution_count": null,
   "id": "ae90894b-c8ca-4b5c-b425-31bd8a854af7",
   "metadata": {},
   "outputs": [],
   "source": []
  }
 ],
 "metadata": {
  "kernelspec": {
   "display_name": "Python 3 (ipykernel)",
   "language": "python",
   "name": "python3"
  },
  "language_info": {
   "codemirror_mode": {
    "name": "ipython",
    "version": 3
   },
   "file_extension": ".py",
   "mimetype": "text/x-python",
   "name": "python",
   "nbconvert_exporter": "python",
   "pygments_lexer": "ipython3",
   "version": "3.11.6"
  }
 },
 "nbformat": 4,
 "nbformat_minor": 5
}
